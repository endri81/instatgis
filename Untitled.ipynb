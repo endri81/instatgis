{
 "cells": [
  {
   "cell_type": "code",
   "execution_count": 7,
   "id": "7842a1e5-7e8e-443a-98bf-950699d45bf1",
   "metadata": {},
   "outputs": [
    {
     "data": {
      "text/plain": [
       "0.1411200080598672"
      ]
     },
     "execution_count": 7,
     "metadata": {},
     "output_type": "execute_result"
    }
   ],
   "source": [
    "  import math\n",
    "  math.sin(3)"
   ]
  },
  {
   "cell_type": "code",
   "execution_count": 8,
   "id": "1302c3ce-495f-4836-b056-31a7b3147db9",
   "metadata": {},
   "outputs": [
    {
     "name": "stdout",
     "output_type": "stream",
     "text": [
      "2.0\n"
     ]
    }
   ],
   "source": [
    "  import math\n",
    "  print(math.sqrt(4))  # Shfaq 2.0"
   ]
  },
  {
   "cell_type": "code",
   "execution_count": 9,
   "id": "1b7cbede-b376-460d-b35f-11a163c4ce6a",
   "metadata": {},
   "outputs": [],
   "source": [
    "station_names = [\"Tirane\", \"Durrës\", \"Elbasan\", \"Sarandë\"] "
   ]
  },
  {
   "cell_type": "code",
   "execution_count": 10,
   "id": "2a6beda9-7393-4df6-98bb-4c54d7248bb8",
   "metadata": {},
   "outputs": [
    {
     "data": {
      "text/plain": [
       "'Sarandë'"
      ]
     },
     "execution_count": 10,
     "metadata": {},
     "output_type": "execute_result"
    }
   ],
   "source": [
    "station_names[-1]"
   ]
  },
  {
   "cell_type": "code",
   "execution_count": 11,
   "id": "862ce490-1c4c-462a-842b-bd8b3ba67737",
   "metadata": {},
   "outputs": [
    {
     "data": {
      "text/plain": [
       "'Tirane'"
      ]
     },
     "execution_count": 11,
     "metadata": {},
     "output_type": "execute_result"
    }
   ],
   "source": [
    "station_names[-4]"
   ]
  },
  {
   "cell_type": "code",
   "execution_count": 12,
   "id": "a84f02b1-b74e-4bd6-a753-19e80ab6f672",
   "metadata": {},
   "outputs": [
    {
     "data": {
      "text/plain": [
       "['Weather stations', 'Weather stations', 'Mareographs', 'Weather stations']"
      ]
     },
     "execution_count": 12,
     "metadata": {},
     "output_type": "execute_result"
    }
   ],
   "source": [
    "  station_types = [\"Weather stations\", \"Weather stations\", \"Weather stations\", \"Weather stations\"]\n",
    "  station_types[2] = \"Mareographs\"\n",
    "  station_types  # Kthen ['Weather stations', 'Weather stations', 'Mareographs', 'Weather stations']"
   ]
  },
  {
   "cell_type": "code",
   "execution_count": null,
   "id": "4d35f425-d2ce-4c81-9847-9a5a6888f2f6",
   "metadata": {},
   "outputs": [],
   "source": []
  }
 ],
 "metadata": {
  "kernelspec": {
   "display_name": "Python 3 (ipykernel)",
   "language": "python",
   "name": "python3"
  },
  "language_info": {
   "codemirror_mode": {
    "name": "ipython",
    "version": 3
   },
   "file_extension": ".py",
   "mimetype": "text/x-python",
   "name": "python",
   "nbconvert_exporter": "python",
   "pygments_lexer": "ipython3",
   "version": "3.11.5"
  }
 },
 "nbformat": 4,
 "nbformat_minor": 5
}
